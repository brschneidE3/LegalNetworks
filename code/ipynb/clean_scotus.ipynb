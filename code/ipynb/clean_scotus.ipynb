{
 "cells": [
  {
   "cell_type": "markdown",
   "metadata": {},
   "source": [
    "This script cleans the scotus network.\n",
    "\n",
    "SCOTUS heard order 100 cases a year, however there are a few years that have several thousand .json files.  A bunch of these .json files correspond to 'applications' to SCOTUS. We would like to remove these from the network.\n",
    "\n",
    "We remove a case if:\n",
    "- It has zero degree (within the SCOTUS network) AND\n",
    "    - It contains the word 'denied' or 'certiorari'\n",
    "    \n",
    "Outline:\n",
    "- load libraries\n",
    "- read in the scotus edges list (this should include every potential case)\n",
    "- add desired metadata to each vertex\n",
    "- Find potential cases to kick out\n",
    "- Remove 'bad' cases\n",
    "- Save cleaned network\n",
    "\n",
    "Problems:\n",
    "\n",
    "\n",
    "TODO:\n",
    "- Make sure we are removing all the cases we want to\n",
    "    - Try more text searches i.e. 'granted'\n",
    "    - Look at case length\n",
    "- Make sure we are not removing any actual cases\n",
    "    - Some cases might have zero degree within the SCOTUS network but could cite/be cited by cases outside the SCOTUS network. ADD this functionality!!\n",
    "- Implement this better: no need to create the igraph network until the end.\n",
    "    - SCOTUS adjacency list as a dict\n",
    "    - SCOTUS adjacency list with meta data as a dict of dicts\n",
    "    - Add in only the cases we want\n",
    "- Create a scotus specific SCOTUS edge list text file\n",
    "\n",
    "    "
   ]
  },
  {
   "cell_type": "code",
   "execution_count": 2,
   "metadata": {
    "collapsed": true
   },
   "outputs": [],
   "source": [
    "#!/usr/bin/env python3\n",
    "\n",
    "from pandas import DataFrame, read_csv\n",
    "import time\n",
    "import pandas as pd \n",
    "import sys \n",
    "from igraph import *\n",
    "import glob\n",
    "import re\n",
    "import json\n",
    "from bs4 import *\n",
    "import os\n",
    "import numpy as np\n"
   ]
  },
  {
   "cell_type": "code",
   "execution_count": 3,
   "metadata": {
    "collapsed": false
   },
   "outputs": [
    {
     "name": "stdout",
     "output_type": "stream",
     "text": [
      "IGRAPH DN-- 63744 244496 -- \n",
      "+ attr: name (v)\n",
      "None\n"
     ]
    }
   ],
   "source": [
    "#Read in the edge list\n",
    "\n",
    "scotus_network = Graph.Read_Lgl('../../data/created/scotus/original/scotus_net_all_lgl.txt', names = 'name', directed = True)\n",
    "print(summary(scotus_network))\n"
   ]
  },
  {
   "cell_type": "code",
   "execution_count": 5,
   "metadata": {
    "collapsed": false
   },
   "outputs": [
    {
     "ename": "KeyboardInterrupt",
     "evalue": "",
     "output_type": "error",
     "traceback": [
      "\u001b[0;31m---------------------------------------------------------------------------\u001b[0m",
      "\u001b[0;31mKeyboardInterrupt\u001b[0m                         Traceback (most recent call last)",
      "\u001b[0;32m<ipython-input-5-0125ba8b0e39>\u001b[0m in \u001b[0;36m<module>\u001b[0;34m()\u001b[0m\n\u001b[1;32m     10\u001b[0m \u001b[0;34m\u001b[0m\u001b[0m\n\u001b[1;32m     11\u001b[0m \u001b[0;34m\u001b[0m\u001b[0m\n\u001b[0;32m---> 12\u001b[0;31m     \u001b[0mscotus_network\u001b[0m\u001b[0;34m.\u001b[0m\u001b[0mvs\u001b[0m\u001b[0;34m.\u001b[0m\u001b[0mselect\u001b[0m\u001b[0;34m(\u001b[0m\u001b[0mname\u001b[0m \u001b[0;34m=\u001b[0m \u001b[0;34m'id'\u001b[0m\u001b[0;34m+\u001b[0m \u001b[0mstr\u001b[0m\u001b[0;34m(\u001b[0m\u001b[0mi\u001b[0m\u001b[0;34m)\u001b[0m\u001b[0;34m)\u001b[0m\u001b[0;34m[\u001b[0m\u001b[0;34m'date'\u001b[0m\u001b[0;34m]\u001b[0m \u001b[0;34m=\u001b[0m \u001b[0mdate\u001b[0m\u001b[0;34m\u001b[0m\u001b[0m\n\u001b[0m\u001b[1;32m     13\u001b[0m \u001b[0;34m\u001b[0m\u001b[0m\n\u001b[1;32m     14\u001b[0m \u001b[0mloop_end\u001b[0m \u001b[0;34m=\u001b[0m \u001b[0mtime\u001b[0m\u001b[0;34m.\u001b[0m\u001b[0mtime\u001b[0m\u001b[0;34m(\u001b[0m\u001b[0;34m)\u001b[0m\u001b[0;34m\u001b[0m\u001b[0m\n",
      "\u001b[0;32m/Library/Frameworks/Python.framework/Versions/3.5/lib/python3.5/site-packages/igraph/__init__.py\u001b[0m in \u001b[0;36mselect\u001b[0;34m(self, *args, **kwds)\u001b[0m\n\u001b[1;32m   3501\u001b[0m             \u001b[0;32melse\u001b[0m\u001b[0;34m:\u001b[0m\u001b[0;34m\u001b[0m\u001b[0m\n\u001b[1;32m   3502\u001b[0m                 \u001b[0mvalues\u001b[0m \u001b[0;34m=\u001b[0m \u001b[0mvs\u001b[0m\u001b[0;34m[\u001b[0m\u001b[0mattr\u001b[0m\u001b[0;34m]\u001b[0m\u001b[0;34m\u001b[0m\u001b[0m\n\u001b[0;32m-> 3503\u001b[0;31m             \u001b[0mfiltered_idxs\u001b[0m\u001b[0;34m=\u001b[0m\u001b[0;34m[\u001b[0m\u001b[0mi\u001b[0m \u001b[0;32mfor\u001b[0m \u001b[0mi\u001b[0m\u001b[0;34m,\u001b[0m \u001b[0mv\u001b[0m \u001b[0;32min\u001b[0m \u001b[0menumerate\u001b[0m\u001b[0;34m(\u001b[0m\u001b[0mvalues\u001b[0m\u001b[0;34m)\u001b[0m \u001b[0;32mif\u001b[0m \u001b[0mfunc\u001b[0m\u001b[0;34m(\u001b[0m\u001b[0mv\u001b[0m\u001b[0;34m,\u001b[0m \u001b[0mvalue\u001b[0m\u001b[0;34m)\u001b[0m\u001b[0;34m]\u001b[0m\u001b[0;34m\u001b[0m\u001b[0m\n\u001b[0m\u001b[1;32m   3504\u001b[0m             \u001b[0mvs\u001b[0m \u001b[0;34m=\u001b[0m \u001b[0mvs\u001b[0m\u001b[0;34m.\u001b[0m\u001b[0mselect\u001b[0m\u001b[0;34m(\u001b[0m\u001b[0mfiltered_idxs\u001b[0m\u001b[0;34m)\u001b[0m\u001b[0;34m\u001b[0m\u001b[0m\n\u001b[1;32m   3505\u001b[0m \u001b[0;34m\u001b[0m\u001b[0m\n",
      "\u001b[0;32m/Library/Frameworks/Python.framework/Versions/3.5/lib/python3.5/site-packages/igraph/__init__.py\u001b[0m in \u001b[0;36m<listcomp>\u001b[0;34m(.0)\u001b[0m\n\u001b[1;32m   3501\u001b[0m             \u001b[0;32melse\u001b[0m\u001b[0;34m:\u001b[0m\u001b[0;34m\u001b[0m\u001b[0m\n\u001b[1;32m   3502\u001b[0m                 \u001b[0mvalues\u001b[0m \u001b[0;34m=\u001b[0m \u001b[0mvs\u001b[0m\u001b[0;34m[\u001b[0m\u001b[0mattr\u001b[0m\u001b[0;34m]\u001b[0m\u001b[0;34m\u001b[0m\u001b[0m\n\u001b[0;32m-> 3503\u001b[0;31m             \u001b[0mfiltered_idxs\u001b[0m\u001b[0;34m=\u001b[0m\u001b[0;34m[\u001b[0m\u001b[0mi\u001b[0m \u001b[0;32mfor\u001b[0m \u001b[0mi\u001b[0m\u001b[0;34m,\u001b[0m \u001b[0mv\u001b[0m \u001b[0;32min\u001b[0m \u001b[0menumerate\u001b[0m\u001b[0;34m(\u001b[0m\u001b[0mvalues\u001b[0m\u001b[0;34m)\u001b[0m \u001b[0;32mif\u001b[0m \u001b[0mfunc\u001b[0m\u001b[0;34m(\u001b[0m\u001b[0mv\u001b[0m\u001b[0;34m,\u001b[0m \u001b[0mvalue\u001b[0m\u001b[0;34m)\u001b[0m\u001b[0;34m]\u001b[0m\u001b[0;34m\u001b[0m\u001b[0m\n\u001b[0m\u001b[1;32m   3504\u001b[0m             \u001b[0mvs\u001b[0m \u001b[0;34m=\u001b[0m \u001b[0mvs\u001b[0m\u001b[0;34m.\u001b[0m\u001b[0mselect\u001b[0m\u001b[0;34m(\u001b[0m\u001b[0mfiltered_idxs\u001b[0m\u001b[0;34m)\u001b[0m\u001b[0;34m\u001b[0m\u001b[0m\n\u001b[1;32m   3505\u001b[0m \u001b[0;34m\u001b[0m\u001b[0m\n",
      "\u001b[0;31mKeyboardInterrupt\u001b[0m: "
     ]
    }
   ],
   "source": [
    "#Add in meta data \n",
    "case_list_cl = [f.split('.')[0] for f in os.listdir(\"../../data/downloaded/clusters/scotus\")]\n",
    "loop_start = time.time()\n",
    "for i in case_list_cl:\n",
    "    filename = \"../../data/downloaded/clusters/scotus/\" + str(i) + \".json\"\n",
    "    with open(filename, encoding='utf-8') as data_file: \n",
    "        cluster_data = json.load(data_file, encoding='utf-8')\n",
    "        \n",
    "    date = cluster_data['date_filed']\n",
    "\n",
    "    scotus_network.vs.select(name = 'id'+ str(i))['date'] = date\n",
    "    \n",
    "loop_end = time.time()\n",
    "print('the loop took ' + str(loop_end- loop_start) + \"s\")"
   ]
  },
  {
   "cell_type": "code",
   "execution_count": null,
   "metadata": {
    "collapsed": true
   },
   "outputs": [],
   "source": [
    "#Find cases that have zero degree AND contain one of\n",
    "    #'denied'\n",
    "    #'certiorari'\n",
    "    #'certiorari denied'\n",
    "    # 'certiorari granted'\n",
    "\n",
    "denied_all = [] #deg = 0, containes 'denied'\n",
    "certiorari_all = []\n",
    "certiorari_denied_all = []\n",
    "certiorari_granted_all = []\n",
    "years_all = []\n",
    "\n",
    "\n",
    "k = 0\n",
    "loop_start = time.time()\n",
    "for i in case_list_op:\n",
    "    current_vertex = scotus_network.vs.select(name = 'id'+ str(i))\n",
    "    degree = current_vertex.degree()[0]\n",
    "    \n",
    "    if degree == 0:\n",
    "        filename_op = \"../../data/downloaded/opinions/scotus/\" + str(i) + \".json\"\n",
    "        with open(filename_op, encoding='utf-8') as data_file: \n",
    "            op_data = json.load(data_file, encoding='utf-8')\n",
    "\n",
    "\n",
    "        text = op_data['html']\n",
    "        if len(text) == 0:\n",
    "            text = op_data['html_with_citations']\n",
    "        elif len(text) == 0:\n",
    "            text = op_data['plain_text']\n",
    "        elif len(text) == 0:\n",
    "            text = op_data['html_lawbox']\n",
    "        elif len(text) == 0:\n",
    "            text = ''\n",
    "            print('case ' + str(i) + ' has no text')\n",
    "            \n",
    "            \n",
    "        year = current_vertex['date'][0].split('-')[0]\n",
    "\n",
    "\n",
    "        if re.search(r'denied', text, re.IGNORECASE):\n",
    "            denied_all.append(i)\n",
    "            years_all.append('d-'+ year + '-' + str(i))\n",
    "\n",
    "        if re.search(r'certiorari', text,re.IGNORECASE):\n",
    "            certiorari_all.append(i)\n",
    "            years_all.append('c-'+ year + '-' + str(i))\n",
    "\n",
    "        if re.search(r'certiorari denied', text,re.IGNORECASE):\n",
    "            certiorari_denied_all.append(i)\n",
    "            years_all.append('cd-'+ year + '-' + str(i))\n",
    "\n",
    "\n",
    "        if re.search(r'certiorari granted', text,re.IGNORECASE):\n",
    "            certiorari_granted_all.append(i)\n",
    "            years_all.append('cg-'+ year + '-' + str(i))\n",
    "    \n",
    "    k = k+1\n",
    "                \n",
    "loop_end = time.time()\n",
    "print('the loop took ' + str(loop_end - loop_start) + \"s\")"
   ]
  },
  {
   "cell_type": "code",
   "execution_count": null,
   "metadata": {
    "collapsed": true
   },
   "outputs": [],
   "source": [
    "#kick out cases we don't want\n",
    "\n",
    "#kills cases that have zero degree and contain either 'denied' or 'certiorari'\n",
    "cases_to_kick_out = list(set(denied_all) | set(certiorari_all))\n",
    "\n",
    "for i in cases_to_kick_out:\n",
    "    caseid = 'id' + str(i)\n",
    "    bad_vertex = scotus_network.vs.select(name = caseid)\n",
    "    scotus_network.delete_vertices(bad_vertex)\n"
   ]
  },
  {
   "cell_type": "code",
   "execution_count": null,
   "metadata": {
    "collapsed": true
   },
   "outputs": [],
   "source": [
    "scotus_network.write_gml('../../data/created/scotus/clean/scotus_net_clean.txt')\n"
   ]
  }
 ],
 "metadata": {
  "kernelspec": {
   "display_name": "Python 2",
   "language": "python",
   "name": "python2"
  },
  "language_info": {
   "codemirror_mode": {
    "name": "ipython",
    "version": 2
   },
   "file_extension": ".py",
   "mimetype": "text/x-python",
   "name": "python",
   "nbconvert_exporter": "python",
   "pygments_lexer": "ipython2",
   "version": "2.7.11"
  }
 },
 "nbformat": 4,
 "nbformat_minor": 0
}
