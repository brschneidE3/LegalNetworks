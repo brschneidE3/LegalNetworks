{
 "cells": [
  {
   "cell_type": "code",
   "execution_count": 22,
   "metadata": {
    "collapsed": true
   },
   "outputs": [],
   "source": [
    "import os, sys, io\n",
    "import json\n",
    "#import simplejson as json\n",
    "from pprint import pprint\n",
    "import datetime"
   ]
  },
  {
   "cell_type": "code",
   "execution_count": 2,
   "metadata": {
    "collapsed": true
   },
   "outputs": [],
   "source": [
    "data_path = '../../data'"
   ]
  },
  {
   "cell_type": "code",
   "execution_count": 3,
   "metadata": {
    "collapsed": false
   },
   "outputs": [],
   "source": [
    "\n",
    "# Given the juristidction, file type and root path to data\n",
    "# Returns a list of case ids in that jurisdiction\n",
    "def get_cases_in_jurisdiction( juris_abv = 'nced', file_type = 'opinions', data_path = '../../data'):\n",
    "    \n",
    "    # path leading to the jurisdiction files\n",
    "    path = data_path + '/'+ file_type + '/' + juris_abv + '/'\n",
    "    \n",
    "    # TODO: throw an exception\n",
    "    # Check that the directory exists\n",
    "    if not os.path.isdir(path):\n",
    "        print 'not a legal path'\n",
    "        return []\n",
    "    else:\n",
    "        return [int(f.split('.json')[0]) for f in os.listdir(path)]"
   ]
  },
  {
   "cell_type": "code",
   "execution_count": 4,
   "metadata": {
    "collapsed": false
   },
   "outputs": [],
   "source": [
    "nced_case_ids = get_cases_in_jurisdiction('nced')"
   ]
  },
  {
   "cell_type": "code",
   "execution_count": 5,
   "metadata": {
    "collapsed": false
   },
   "outputs": [],
   "source": []
  },
  {
   "cell_type": "code",
   "execution_count": 6,
   "metadata": {
    "collapsed": true
   },
   "outputs": [],
   "source": [
    "cl_file = data_path + '/clusters/nced/1361899.json'\n",
    "op_file = data_path + '/opinions/nced/1361899.json'"
   ]
  },
  {
   "cell_type": "code",
   "execution_count": 15,
   "metadata": {
    "collapsed": false
   },
   "outputs": [],
   "source": [
    "\n",
    "# Open the cluster and opinion json files\n",
    "with open(cl_file) as data_file:    \n",
    "    cl_data_temp = json.load(data_file)\n",
    "    \n",
    "with open(op_file) as data_file:    \n",
    "    op_data_temp = json.load(data_file)\n",
    "\n",
    "# TODO: do this more succinctly\n",
    "# Convert to utf8 from unicode\n",
    "cl_data = {}\n",
    "for k in cl_data_temp.keys():\n",
    "    value = cl_data_temp[k]\n",
    "    if k == 'opinions_cited':\n",
    "        cl_data['opinions_cited'] = [v.encode('utf8') for v in value]\n",
    "    elif type(value) == unicode:\n",
    "        cl_data[k.encode('utf8')] = value.encode('utf8')\n",
    "    else:\n",
    "        cl_data[k.encode('utf8')] = value\n",
    "        \n",
    "        \n",
    "op_data = {}\n",
    "for k in op_data_temp.keys():\n",
    "    value = op_data_temp[k]\n",
    "    if k == 'opinions_cited':\n",
    "        op_data['opinions_cited'] = [v.encode('utf8') for v in value]\n",
    "    elif type(value) == unicode:\n",
    "        op_data[k.encode('utf8')] = value.encode('utf8')\n",
    "    else:\n",
    "        op_data[k.encode('utf8')] = value\n",
    "        \n",
    "        \n",
    "    "
   ]
  },
  {
   "cell_type": "code",
   "execution_count": 8,
   "metadata": {
    "collapsed": false
   },
   "outputs": [],
   "source": [
    "case_data = {}\n",
    "\n",
    "for k in cl_data.keys():\n",
    "    if k == 'case_name':\n",
    "        case_data[k] = cl_data[k]\n",
    "        \n",
    "    if k == 'citation_id':\n",
    "        case_data[k] = cl_data[k]\n",
    "\n",
    "    if k == 'date_filed' \n",
    "        date_explode = cl_data['date_filed'].split('-') # make sure date is always in this format\n",
    "        file_date = datetime.date(date_explode[0], date_explode[1], date_explode[2])\n",
    "        case_data[k] = file_date\n",
    "\n",
    "# Get the case text \n",
    "text = op_data['html']\n",
    "if len(text) == 0:\n",
    "    text = op_data['html_with_citations']\n",
    "elif len(text) == 0:\n",
    "    text = op_data['plain_text']\n",
    "elif len(text) == 0:\n",
    "    text = op_data['html_lawbox']\n",
    "elif len(text) == 0:\n",
    "    text = ''\n",
    "    print('case ' + str(i) + ' has no text')\n",
    "    \n",
    "    \n",
    "case_data['case_text'] = text"
   ]
  },
  {
   "cell_type": "code",
   "execution_count": 44,
   "metadata": {
    "collapsed": false
   },
   "outputs": [],
   "source": [
    "class Case:\n",
    "    def __init__(self, op_file, cl_file):\n",
    "    \n",
    "        # Open the cluster and opinion json files\n",
    "        with open(cl_file) as data_file:    \n",
    "            cl_data_temp = json.load(data_file)\n",
    "\n",
    "        with open(op_file) as data_file:    \n",
    "            op_data_temp = json.load(data_file)\n",
    "\n",
    "        # TODO: do this more succinctly\n",
    "        # Convert to utf8 from unicode\n",
    "        cl_data = {}\n",
    "        for k in cl_data_temp.keys():\n",
    "            value = cl_data_temp[k]\n",
    "            if k == 'opinions_cited':\n",
    "                cl_data['opinions_cited'] = [v.encode('utf8') for v in value]\n",
    "            elif type(value) == unicode:\n",
    "                cl_data[k.encode('utf8')] = value.encode('utf8')\n",
    "            else:\n",
    "                cl_data[k.encode('utf8')] = value\n",
    "\n",
    "        op_data = {}\n",
    "        for k in op_data_temp.keys():\n",
    "            value = op_data_temp[k]\n",
    "            if k == 'opinions_cited':\n",
    "                op_data['opinions_cited'] = [v.encode('utf8') for v in value]\n",
    "            elif type(value) == unicode:\n",
    "                op_data[k.encode('utf8')] = value.encode('utf8')\n",
    "            else:\n",
    "                op_data[k.encode('utf8')] = value\n",
    "\n",
    "\n",
    "\n",
    "\n",
    "        for k in cl_data.keys():\n",
    "            if k == 'case_name':\n",
    "                self.case_name = cl_data[k]\n",
    "\n",
    "            if k == 'citation_id':\n",
    "                self.case_id = cl_data[k]\n",
    "\n",
    "            if k == 'date_filed': \n",
    "                date_explode = cl_data['date_filed'].split('-') # make sure date is always in this format\n",
    "                file_date = datetime.date(int(date_explode[0]), int(date_explode[1]), int(date_explode[2]))\n",
    "                self.date = file_date\n",
    "\n",
    "        # Get the case text \n",
    "        text = op_data['html']\n",
    "        if len(text) == 0:\n",
    "            text = op_data['html_with_citations']\n",
    "        elif len(text) == 0:\n",
    "            text = op_data['plain_text']\n",
    "        elif len(text) == 0:\n",
    "            text = op_data['html_lawbox']\n",
    "        elif len(text) == 0:\n",
    "            text = ''\n",
    "            print('case ' + str(i) + ' has no text')\n",
    "        \n",
    "        self.text = text\n",
    "    \n",
    "    def __repr__(self):\n",
    "        return \"Name: \\t %s \\n\"\\\n",
    "               \"Id \\t %s \\n\"\\\n",
    "               \"Date \\t %s \\n\"\\\n",
    "                % (self.case_name, self.case_id, self.date )\n",
    "\n",
    "\n",
    "\n",
    "\n",
    "\n"
   ]
  },
  {
   "cell_type": "code",
   "execution_count": 45,
   "metadata": {
    "collapsed": true
   },
   "outputs": [],
   "source": [
    "case = Case(op_file, cl_file)"
   ]
  },
  {
   "cell_type": "code",
   "execution_count": 46,
   "metadata": {
    "collapsed": false
   },
   "outputs": [
    {
     "data": {
      "text/plain": [
       "<bound method Case.__repr__ of Name: \t Stott v. Martin \n",
       "Id \t 1334670 \n",
       "Date \t 1992-02-12 \n",
       ">"
      ]
     },
     "execution_count": 46,
     "metadata": {},
     "output_type": "execute_result"
    }
   ],
   "source": [
    "case.__repr__"
   ]
  },
  {
   "cell_type": "code",
   "execution_count": null,
   "metadata": {
    "collapsed": true
   },
   "outputs": [],
   "source": []
  }
 ],
 "metadata": {
  "kernelspec": {
   "display_name": "Python 2",
   "language": "python",
   "name": "python2"
  },
  "language_info": {
   "codemirror_mode": {
    "name": "ipython",
    "version": 2
   },
   "file_extension": ".py",
   "mimetype": "text/x-python",
   "name": "python",
   "nbconvert_exporter": "python",
   "pygments_lexer": "ipython2",
   "version": "2.7.11"
  }
 },
 "nbformat": 4,
 "nbformat_minor": 0
}
