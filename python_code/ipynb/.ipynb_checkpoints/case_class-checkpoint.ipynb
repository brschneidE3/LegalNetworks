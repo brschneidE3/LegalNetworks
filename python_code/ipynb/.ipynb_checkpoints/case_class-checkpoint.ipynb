{
 "cells": [
  {
   "cell_type": "code",
   "execution_count": 1,
   "metadata": {
    "collapsed": true
   },
   "outputs": [],
   "source": [
    "import os, sys, io\n",
    "import json\n",
    "from pprint import pprint\n",
    "\n",
    "import codecs"
   ]
  },
  {
   "cell_type": "code",
   "execution_count": 2,
   "metadata": {
    "collapsed": true
   },
   "outputs": [],
   "source": [
    "data_path = '../../data'"
   ]
  },
  {
   "cell_type": "code",
   "execution_count": 3,
   "metadata": {
    "collapsed": false
   },
   "outputs": [],
   "source": [
    "\n",
    "# Given the juristidction, file type and root path to data\n",
    "# Returns a list of case ids in that jurisdiction\n",
    "def get_cases_in_jurisdiction( juris_abv = 'nced', file_type = 'opinions', data_path = '../../data'):\n",
    "    \n",
    "    # path leading to the jurisdiction files\n",
    "    path = data_path + '/'+ file_type + '/' + juris_abv + '/'\n",
    "    \n",
    "    # TODO: throw an exception\n",
    "    # Check that the directory exists\n",
    "    if not os.path.isdir(path):\n",
    "        print 'not a legal path'\n",
    "        return []\n",
    "    else:\n",
    "        return [int(f.split('.json')[0]) for f in os.listdir(path)]"
   ]
  },
  {
   "cell_type": "code",
   "execution_count": 4,
   "metadata": {
    "collapsed": false
   },
   "outputs": [],
   "source": [
    "nced_case_ids = get_cases_in_jurisdiction('nced')"
   ]
  },
  {
   "cell_type": "code",
   "execution_count": 37,
   "metadata": {
    "collapsed": false
   },
   "outputs": [],
   "source": [
    "\n",
    "def get_case_attributes(cl_file, op_file):\n",
    "    print 'blah'\n",
    "    "
   ]
  },
  {
   "cell_type": "code",
   "execution_count": 5,
   "metadata": {
    "collapsed": true
   },
   "outputs": [],
   "source": [
    "cl_file = data_path + '/clusters/nced/1361899.json'\n",
    "op_file = data_path + '/opinions/nced/1361899.json'"
   ]
  },
  {
   "cell_type": "code",
   "execution_count": 17,
   "metadata": {
    "collapsed": false
   },
   "outputs": [],
   "source": [
    "\n",
    "# Open the cluster and opinion json files\n",
    "with open(cl_file) as data_file:    \n",
    "    cl_data_temp = json.load(data_file)\n",
    "    \n",
    "with open(op_file) as data_file:    \n",
    "    op_data_temp = json.load(data_file)\n",
    "\n",
    "# TODO: do this more succinctly\n",
    "# Convert to utf8 from unicode\n",
    "cl_data = {}\n",
    "for k in cl_data_temp.keys():\n",
    "    value = cl_data_temp[k]\n",
    "    if type(value) == unicode:\n",
    "        cl_data[k.encode('utf8')] = value.encode('utf8')\n",
    "    else:\n",
    "        cl_data[k.encode('utf8')] = value\n",
    "        \n",
    "        \n",
    "op_data = {}\n",
    "for k in op_data_temp.keys():\n",
    "    value = op_data_temp[k]\n",
    "    if type(value) == unicode:\n",
    "        op_data[k.encode('utf8')] = value.encode('utf8')\n",
    "    else:\n",
    "        op_data[k.encode('utf8')] = value\n",
    "        \n",
    "        \n",
    "    "
   ]
  },
  {
   "cell_type": "code",
   "execution_count": 22,
   "metadata": {
    "collapsed": false
   },
   "outputs": [
    {
     "data": {
      "text/plain": [
       "int"
      ]
     },
     "execution_count": 22,
     "metadata": {},
     "output_type": "execute_result"
    }
   ],
   "source": []
  },
  {
   "cell_type": "code",
   "execution_count": 19,
   "metadata": {
    "collapsed": false
   },
   "outputs": [
    {
     "name": "stdout",
     "output_type": "stream",
     "text": [
      "{'absolute_url': '/opinion/1361899/stott-v-martin/',\n",
      " 'attorneys': '',\n",
      " 'blocked': False,\n",
      " 'case_name': 'Stott v. Martin',\n",
      " 'case_name_full': '',\n",
      " 'case_name_short': 'Stott',\n",
      " 'citation_count': 5,\n",
      " 'citation_id': 1334670,\n",
      " 'date_blocked': None,\n",
      " 'date_created': '2015-09-21T20:54:00.346234Z',\n",
      " 'date_filed': '1992-02-12',\n",
      " 'date_modified': '2016-03-03T19:38:36.416570Z',\n",
      " 'docket': 'http://www.courtlistener.com/api/rest/v3/dockets/792608/',\n",
      " 'federal_cite_one': '783 F. Supp. 970',\n",
      " 'federal_cite_three': '',\n",
      " 'federal_cite_two': '',\n",
      " 'judges': 'Britt',\n",
      " 'lexis_cite': '',\n",
      " 'nature_of_suit': '',\n",
      " 'neutral_cite': '',\n",
      " 'non_participating_judges': [],\n",
      " 'panel': [],\n",
      " 'posture': '',\n",
      " 'precedential_status': 'Published',\n",
      " 'procedural_history': '',\n",
      " 'resource_uri': 'http://www.courtlistener.com/api/rest/v3/clusters/1361899/',\n",
      " 'scdb_decision_direction': None,\n",
      " 'scdb_id': '',\n",
      " 'scdb_votes_majority': None,\n",
      " 'scdb_votes_minority': None,\n",
      " 'scotus_early_cite': '',\n",
      " 'slug': 'stott-v-martin',\n",
      " 'source': 'L',\n",
      " 'specialty_cite_one': '',\n",
      " 'state_cite_one': '',\n",
      " 'state_cite_regional': '',\n",
      " 'state_cite_three': '',\n",
      " 'state_cite_two': '',\n",
      " 'sub_opinions': [u'http://www.courtlistener.com/api/rest/v3/opinions/1361899/'],\n",
      " 'syllabus': '',\n",
      " 'westlaw_cite': ''}\n"
     ]
    }
   ],
   "source": [
    "pprint(cl_data)"
   ]
  },
  {
   "cell_type": "code",
   "execution_count": null,
   "metadata": {
    "collapsed": true
   },
   "outputs": [],
   "source": []
  }
 ],
 "metadata": {
  "kernelspec": {
   "display_name": "Python 2",
   "language": "python",
   "name": "python2"
  },
  "language_info": {
   "codemirror_mode": {
    "name": "ipython",
    "version": 2
   },
   "file_extension": ".py",
   "mimetype": "text/x-python",
   "name": "python",
   "nbconvert_exporter": "python",
   "pygments_lexer": "ipython2",
   "version": "2.7.11"
  }
 },
 "nbformat": 4,
 "nbformat_minor": 0
}
